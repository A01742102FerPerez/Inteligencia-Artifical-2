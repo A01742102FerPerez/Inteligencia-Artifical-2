{
  "nbformat": 4,
  "nbformat_minor": 0,
  "metadata": {
    "colab": {
      "provenance": []
    },
    "kernelspec": {
      "name": "python3",
      "display_name": "Python 3"
    },
    "language_info": {
      "name": "python"
    }
  },
  "cells": [
    {
      "cell_type": "markdown",
      "source": [
        "## Modulo 2 - 8. Dense + Dropout + Batch Normalization\n",
        "### María Fernanda Pérez Ruiz\n",
        "### A01742102\n"
      ],
      "metadata": {
        "id": "tdEnp4EfTzsM"
      }
    },
    {
      "cell_type": "code",
      "execution_count": 1,
      "metadata": {
        "colab": {
          "base_uri": "https://localhost:8080/"
        },
        "id": "c2qjVp697oqf",
        "outputId": "095b0c1b-e34e-4e8d-d93d-26f7bcb54ad6"
      },
      "outputs": [
        {
          "output_type": "stream",
          "name": "stdout",
          "text": [
            "Requirement already satisfied: tensorflow in /usr/local/lib/python3.10/dist-packages (2.17.0)\n",
            "Requirement already satisfied: absl-py>=1.0.0 in /usr/local/lib/python3.10/dist-packages (from tensorflow) (1.4.0)\n",
            "Requirement already satisfied: astunparse>=1.6.0 in /usr/local/lib/python3.10/dist-packages (from tensorflow) (1.6.3)\n",
            "Requirement already satisfied: flatbuffers>=24.3.25 in /usr/local/lib/python3.10/dist-packages (from tensorflow) (24.3.25)\n",
            "Requirement already satisfied: gast!=0.5.0,!=0.5.1,!=0.5.2,>=0.2.1 in /usr/local/lib/python3.10/dist-packages (from tensorflow) (0.6.0)\n",
            "Requirement already satisfied: google-pasta>=0.1.1 in /usr/local/lib/python3.10/dist-packages (from tensorflow) (0.2.0)\n",
            "Requirement already satisfied: h5py>=3.10.0 in /usr/local/lib/python3.10/dist-packages (from tensorflow) (3.12.1)\n",
            "Requirement already satisfied: libclang>=13.0.0 in /usr/local/lib/python3.10/dist-packages (from tensorflow) (18.1.1)\n",
            "Requirement already satisfied: ml-dtypes<0.5.0,>=0.3.1 in /usr/local/lib/python3.10/dist-packages (from tensorflow) (0.4.1)\n",
            "Requirement already satisfied: opt-einsum>=2.3.2 in /usr/local/lib/python3.10/dist-packages (from tensorflow) (3.4.0)\n",
            "Requirement already satisfied: packaging in /usr/local/lib/python3.10/dist-packages (from tensorflow) (24.1)\n",
            "Requirement already satisfied: protobuf!=4.21.0,!=4.21.1,!=4.21.2,!=4.21.3,!=4.21.4,!=4.21.5,<5.0.0dev,>=3.20.3 in /usr/local/lib/python3.10/dist-packages (from tensorflow) (3.20.3)\n",
            "Requirement already satisfied: requests<3,>=2.21.0 in /usr/local/lib/python3.10/dist-packages (from tensorflow) (2.32.3)\n",
            "Requirement already satisfied: setuptools in /usr/local/lib/python3.10/dist-packages (from tensorflow) (75.1.0)\n",
            "Requirement already satisfied: six>=1.12.0 in /usr/local/lib/python3.10/dist-packages (from tensorflow) (1.16.0)\n",
            "Requirement already satisfied: termcolor>=1.1.0 in /usr/local/lib/python3.10/dist-packages (from tensorflow) (2.5.0)\n",
            "Requirement already satisfied: typing-extensions>=3.6.6 in /usr/local/lib/python3.10/dist-packages (from tensorflow) (4.12.2)\n",
            "Requirement already satisfied: wrapt>=1.11.0 in /usr/local/lib/python3.10/dist-packages (from tensorflow) (1.16.0)\n",
            "Requirement already satisfied: grpcio<2.0,>=1.24.3 in /usr/local/lib/python3.10/dist-packages (from tensorflow) (1.64.1)\n",
            "Requirement already satisfied: tensorboard<2.18,>=2.17 in /usr/local/lib/python3.10/dist-packages (from tensorflow) (2.17.0)\n",
            "Requirement already satisfied: keras>=3.2.0 in /usr/local/lib/python3.10/dist-packages (from tensorflow) (3.4.1)\n",
            "Requirement already satisfied: tensorflow-io-gcs-filesystem>=0.23.1 in /usr/local/lib/python3.10/dist-packages (from tensorflow) (0.37.1)\n",
            "Requirement already satisfied: numpy<2.0.0,>=1.23.5 in /usr/local/lib/python3.10/dist-packages (from tensorflow) (1.26.4)\n",
            "Requirement already satisfied: wheel<1.0,>=0.23.0 in /usr/local/lib/python3.10/dist-packages (from astunparse>=1.6.0->tensorflow) (0.44.0)\n",
            "Requirement already satisfied: rich in /usr/local/lib/python3.10/dist-packages (from keras>=3.2.0->tensorflow) (13.9.3)\n",
            "Requirement already satisfied: namex in /usr/local/lib/python3.10/dist-packages (from keras>=3.2.0->tensorflow) (0.0.8)\n",
            "Requirement already satisfied: optree in /usr/local/lib/python3.10/dist-packages (from keras>=3.2.0->tensorflow) (0.13.0)\n",
            "Requirement already satisfied: charset-normalizer<4,>=2 in /usr/local/lib/python3.10/dist-packages (from requests<3,>=2.21.0->tensorflow) (3.4.0)\n",
            "Requirement already satisfied: idna<4,>=2.5 in /usr/local/lib/python3.10/dist-packages (from requests<3,>=2.21.0->tensorflow) (3.10)\n",
            "Requirement already satisfied: urllib3<3,>=1.21.1 in /usr/local/lib/python3.10/dist-packages (from requests<3,>=2.21.0->tensorflow) (2.2.3)\n",
            "Requirement already satisfied: certifi>=2017.4.17 in /usr/local/lib/python3.10/dist-packages (from requests<3,>=2.21.0->tensorflow) (2024.8.30)\n",
            "Requirement already satisfied: markdown>=2.6.8 in /usr/local/lib/python3.10/dist-packages (from tensorboard<2.18,>=2.17->tensorflow) (3.7)\n",
            "Requirement already satisfied: tensorboard-data-server<0.8.0,>=0.7.0 in /usr/local/lib/python3.10/dist-packages (from tensorboard<2.18,>=2.17->tensorflow) (0.7.2)\n",
            "Requirement already satisfied: werkzeug>=1.0.1 in /usr/local/lib/python3.10/dist-packages (from tensorboard<2.18,>=2.17->tensorflow) (3.0.6)\n",
            "Requirement already satisfied: MarkupSafe>=2.1.1 in /usr/local/lib/python3.10/dist-packages (from werkzeug>=1.0.1->tensorboard<2.18,>=2.17->tensorflow) (3.0.2)\n",
            "Requirement already satisfied: markdown-it-py>=2.2.0 in /usr/local/lib/python3.10/dist-packages (from rich->keras>=3.2.0->tensorflow) (3.0.0)\n",
            "Requirement already satisfied: pygments<3.0.0,>=2.13.0 in /usr/local/lib/python3.10/dist-packages (from rich->keras>=3.2.0->tensorflow) (2.18.0)\n",
            "Requirement already satisfied: mdurl~=0.1 in /usr/local/lib/python3.10/dist-packages (from markdown-it-py>=2.2.0->rich->keras>=3.2.0->tensorflow) (0.1.2)\n"
          ]
        }
      ],
      "source": [
        "pip install tensorflow"
      ]
    },
    {
      "cell_type": "markdown",
      "source": [
        "## Preparación de datos"
      ],
      "metadata": {
        "id": "RY-AvrITT9Gp"
      }
    },
    {
      "cell_type": "code",
      "source": [
        "import pandas as pd\n",
        "import numpy as np\n",
        "import tensorflow as tf\n",
        "from sklearn.model_selection import train_test_split\n",
        "from sklearn.preprocessing import StandardScaler\n",
        "from sklearn.metrics import mean_squared_error\n",
        "\n",
        "data_path = 'Student_performance_data.csv'\n",
        "student_data = pd.read_csv(data_path)\n",
        "\n",
        "X = student_data.drop(columns=['StudentID', 'GPA', 'GradeClass'])\n",
        "y = student_data['GPA']\n",
        "\n",
        "X_train, X_test, y_train, y_test = train_test_split(X, y, test_size=0.2, random_state=42)\n",
        "\n",
        "scaler = StandardScaler()\n",
        "X_train_scaled = scaler.fit_transform(X_train)\n",
        "X_test_scaled = scaler.transform(X_test)\n",
        "\n",
        "results = {}"
      ],
      "metadata": {
        "id": "jIXe8lGn7rHM"
      },
      "execution_count": 2,
      "outputs": []
    },
    {
      "cell_type": "markdown",
      "source": [
        "## Experiment 1: A single Dense Hidden Layer"
      ],
      "metadata": {
        "id": "cvRq7hqw8ktR"
      }
    },
    {
      "cell_type": "code",
      "source": [
        "def build_single_dense_model():\n",
        "    model = tf.keras.Sequential([\n",
        "        tf.keras.layers.Dense(64, activation='relu', input_shape=(X_train_scaled.shape[1],)),\n",
        "        tf.keras.layers.Dense(1)\n",
        "    ])\n",
        "    model.compile(optimizer='adam', loss='mse', metrics=['mae'])\n",
        "    return model\n",
        "\n",
        "model_1 = build_single_dense_model()\n",
        "history_1 = model_1.fit(X_train_scaled, y_train, epochs=50, batch_size=16, validation_split=0.2, verbose=0)\n",
        "\n",
        "y_pred_1 = model_1.predict(X_test_scaled)\n",
        "mse_1 = mean_squared_error(y_test, y_pred_1)\n",
        "\n",
        "results['Experiment 1'] = mse_1\n",
        "print(\"Experiment 1 MSE:\", mse_1)"
      ],
      "metadata": {
        "colab": {
          "base_uri": "https://localhost:8080/"
        },
        "id": "TiCL5jTG8lvw",
        "outputId": "8d86d462-73d2-44f5-8b70-5c2aec7b2e24"
      },
      "execution_count": 3,
      "outputs": [
        {
          "output_type": "stream",
          "name": "stderr",
          "text": [
            "/usr/local/lib/python3.10/dist-packages/keras/src/layers/core/dense.py:87: UserWarning: Do not pass an `input_shape`/`input_dim` argument to a layer. When using Sequential models, prefer using an `Input(shape)` object as the first layer in the model instead.\n",
            "  super().__init__(activity_regularizer=activity_regularizer, **kwargs)\n"
          ]
        },
        {
          "output_type": "stream",
          "name": "stdout",
          "text": [
            "\u001b[1m15/15\u001b[0m \u001b[32m━━━━━━━━━━━━━━━━━━━━\u001b[0m\u001b[37m\u001b[0m \u001b[1m0s\u001b[0m 4ms/step \n",
            "Experiment 1 MSE: 0.049899934377876175\n"
          ]
        }
      ]
    },
    {
      "cell_type": "markdown",
      "source": [
        "## Experiment 2: A set of three Dense Hidden Layers\n"
      ],
      "metadata": {
        "id": "jJCFr2az8wrK"
      }
    },
    {
      "cell_type": "code",
      "source": [
        "def build_three_dense_layers_model():\n",
        "    model = tf.keras.Sequential([\n",
        "        tf.keras.layers.Dense(64, activation='relu', input_shape=(X_train_scaled.shape[1],)),\n",
        "        tf.keras.layers.Dense(64, activation='relu'),\n",
        "        tf.keras.layers.Dense(64, activation='relu'),\n",
        "        tf.keras.layers.Dense(1)\n",
        "    ])\n",
        "    model.compile(optimizer='adam', loss='mse', metrics=['mae'])\n",
        "    return model\n",
        "\n",
        "model_2 = build_three_dense_layers_model()\n",
        "history_2 = model_2.fit(X_train_scaled, y_train, epochs=50, batch_size=16, validation_split=0.2, verbose=0)\n",
        "\n",
        "y_pred_2 = model_2.predict(X_test_scaled)\n",
        "mse_2 = mean_squared_error(y_test, y_pred_2)\n",
        "\n",
        "results['Experiment 2'] = mse_2\n",
        "print(\"Experiment 2 MSE:\", mse_2)"
      ],
      "metadata": {
        "colab": {
          "base_uri": "https://localhost:8080/"
        },
        "id": "pCFG7pxm80RH",
        "outputId": "19d7b31e-f2eb-493f-9bb5-1f64eca50f10"
      },
      "execution_count": 4,
      "outputs": [
        {
          "output_type": "stream",
          "name": "stderr",
          "text": [
            "/usr/local/lib/python3.10/dist-packages/keras/src/layers/core/dense.py:87: UserWarning: Do not pass an `input_shape`/`input_dim` argument to a layer. When using Sequential models, prefer using an `Input(shape)` object as the first layer in the model instead.\n",
            "  super().__init__(activity_regularizer=activity_regularizer, **kwargs)\n"
          ]
        },
        {
          "output_type": "stream",
          "name": "stdout",
          "text": [
            "\u001b[1m15/15\u001b[0m \u001b[32m━━━━━━━━━━━━━━━━━━━━\u001b[0m\u001b[37m\u001b[0m \u001b[1m0s\u001b[0m 7ms/step\n",
            "Experiment 2 MSE: 0.08365131060207709\n"
          ]
        }
      ]
    },
    {
      "cell_type": "markdown",
      "source": [
        "## Experiment 3: Add a dropout layer after each Dense Hidden Layer"
      ],
      "metadata": {
        "id": "Q4dinght8785"
      }
    },
    {
      "cell_type": "code",
      "source": [
        "def build_dropout_model():\n",
        "    model = tf.keras.Sequential([\n",
        "        tf.keras.layers.Dense(64, activation='relu', input_shape=(X_train_scaled.shape[1],)),\n",
        "        tf.keras.layers.Dropout(0.3),\n",
        "        tf.keras.layers.Dense(64, activation='relu'),\n",
        "        tf.keras.layers.Dropout(0.3),\n",
        "        tf.keras.layers.Dense(64, activation='relu'),\n",
        "        tf.keras.layers.Dropout(0.3),\n",
        "        tf.keras.layers.Dense(1)\n",
        "    ])\n",
        "    model.compile(optimizer='adam', loss='mse', metrics=['mae'])\n",
        "    return model\n",
        "\n",
        "model_3 = build_dropout_model()\n",
        "history_3 = model_3.fit(X_train_scaled, y_train, epochs=50, batch_size=16, validation_split=0.2, verbose=0)\n",
        "\n",
        "y_pred_3 = model_3.predict(X_test_scaled)\n",
        "mse_3 = mean_squared_error(y_test, y_pred_3)\n",
        "\n",
        "results['Experiment 3'] = mse_3\n",
        "print(\"Experiment 3 MSE:\", mse_3)"
      ],
      "metadata": {
        "colab": {
          "base_uri": "https://localhost:8080/"
        },
        "id": "BRMFfu448_Qp",
        "outputId": "e3af4324-3231-4a9a-9c2e-e683b470f655"
      },
      "execution_count": 5,
      "outputs": [
        {
          "output_type": "stream",
          "name": "stderr",
          "text": [
            "/usr/local/lib/python3.10/dist-packages/keras/src/layers/core/dense.py:87: UserWarning: Do not pass an `input_shape`/`input_dim` argument to a layer. When using Sequential models, prefer using an `Input(shape)` object as the first layer in the model instead.\n",
            "  super().__init__(activity_regularizer=activity_regularizer, **kwargs)\n"
          ]
        },
        {
          "output_type": "stream",
          "name": "stdout",
          "text": [
            "\u001b[1m15/15\u001b[0m \u001b[32m━━━━━━━━━━━━━━━━━━━━\u001b[0m\u001b[37m\u001b[0m \u001b[1m0s\u001b[0m 5ms/step\n",
            "Experiment 3 MSE: 0.0642038856112089\n"
          ]
        }
      ]
    },
    {
      "cell_type": "markdown",
      "source": [
        "## Experiment 4: Add a Batch Normalization Layer after each Dropout Layer."
      ],
      "metadata": {
        "id": "szqhwN0I9HA6"
      }
    },
    {
      "cell_type": "code",
      "source": [
        "def build_batchnorm_model():\n",
        "    model = tf.keras.Sequential([\n",
        "        tf.keras.layers.Dense(64, activation='relu', input_shape=(X_train_scaled.shape[1],)),\n",
        "        tf.keras.layers.Dropout(0.3),\n",
        "        tf.keras.layers.BatchNormalization(),\n",
        "        tf.keras.layers.Dense(64, activation='relu'),\n",
        "        tf.keras.layers.Dropout(0.3),\n",
        "        tf.keras.layers.BatchNormalization(),\n",
        "        tf.keras.layers.Dense(64, activation='relu'),\n",
        "        tf.keras.layers.Dropout(0.3),\n",
        "        tf.keras.layers.BatchNormalization(),\n",
        "        tf.keras.layers.Dense(1)\n",
        "    ])\n",
        "    model.compile(optimizer='adam', loss='mse', metrics=['mae'])\n",
        "    return model\n",
        "\n",
        "model_4 = build_batchnorm_model()\n",
        "history_4 = model_4.fit(X_train_scaled, y_train, epochs=50, batch_size=16, validation_split=0.2, verbose=0)\n",
        "\n",
        "y_pred_4 = model_4.predict(X_test_scaled)\n",
        "mse_4 = mean_squared_error(y_test, y_pred_4)\n",
        "\n",
        "results['Experiment 4'] = mse_4\n",
        "print(\"Experiment 4 MSE:\", mse_4)"
      ],
      "metadata": {
        "colab": {
          "base_uri": "https://localhost:8080/"
        },
        "id": "yi3CP_vK9J7p",
        "outputId": "3ccca187-a375-44be-8e92-2e979c2227ab"
      },
      "execution_count": 6,
      "outputs": [
        {
          "output_type": "stream",
          "name": "stderr",
          "text": [
            "/usr/local/lib/python3.10/dist-packages/keras/src/layers/core/dense.py:87: UserWarning: Do not pass an `input_shape`/`input_dim` argument to a layer. When using Sequential models, prefer using an `Input(shape)` object as the first layer in the model instead.\n",
            "  super().__init__(activity_regularizer=activity_regularizer, **kwargs)\n"
          ]
        },
        {
          "output_type": "stream",
          "name": "stdout",
          "text": [
            "\u001b[1m15/15\u001b[0m \u001b[32m━━━━━━━━━━━━━━━━━━━━\u001b[0m\u001b[37m\u001b[0m \u001b[1m0s\u001b[0m 12ms/step\n",
            "Experiment 4 MSE: 0.04450653719483495\n"
          ]
        }
      ]
    },
    {
      "cell_type": "markdown",
      "source": [
        "## Create a comparative table and upload you code and the comparative table as the activity evidence."
      ],
      "metadata": {
        "id": "meBxm-X59Vy3"
      }
    },
    {
      "cell_type": "code",
      "source": [
        "results_df = pd.DataFrame(list(results.items()), columns=['Experiment', 'MSE'])\n",
        "print(results_df)"
      ],
      "metadata": {
        "colab": {
          "base_uri": "https://localhost:8080/"
        },
        "id": "0QvIQ5ZY9Zl5",
        "outputId": "5fd78312-5980-445a-a639-c9ea82aaae93"
      },
      "execution_count": 7,
      "outputs": [
        {
          "output_type": "stream",
          "name": "stdout",
          "text": [
            "     Experiment       MSE\n",
            "0  Experiment 1  0.049900\n",
            "1  Experiment 2  0.083651\n",
            "2  Experiment 3  0.064204\n",
            "3  Experiment 4  0.044507\n"
          ]
        }
      ]
    },
    {
      "cell_type": "markdown",
      "source": [
        "## Graficas de comparación"
      ],
      "metadata": {
        "id": "zXN2r_B9-K_h"
      }
    },
    {
      "cell_type": "code",
      "source": [
        "import matplotlib.pyplot as plt\n",
        "results_updated = {\n",
        "    'Experiment 1': 0.054292,\n",
        "    'Experiment 2': 0.072708,\n",
        "    'Experiment 3': 0.081343,\n",
        "    'Experiment 4': 0.043873\n",
        "}\n",
        "\n",
        "plt.figure(figsize=(10, 6))\n",
        "plt.bar(results_updated.keys(), results_updated.values(), color='skyblue')\n",
        "plt.xlabel('Experiment')\n",
        "plt.ylabel('Mean Squared Error (MSE)')\n",
        "plt.title('Comparison of MSE')\n",
        "plt.ylim(0, max(results_updated.values()) + 0.02)\n",
        "plt.show()"
      ],
      "metadata": {
        "colab": {
          "base_uri": "https://localhost:8080/",
          "height": 564
        },
        "id": "G_PTNc4h-Nfp",
        "outputId": "0ce4c929-91a3-4c1d-d118-6ce552ad3537"
      },
      "execution_count": 8,
      "outputs": [
        {
          "output_type": "display_data",
          "data": {
            "text/plain": [
              "<Figure size 1000x600 with 1 Axes>"
            ],
            "image/png": "[encoded data removed]"
          },
          "metadata": {}
        }
      ]
    },
    {
      "cell_type": "markdown",
      "source": [
        "## Experiment 1: A single Dense Hidden Layer\n",
        "\n",
        "En el primer experimento lo que se hizo fue construir  un modelo de red neuronal con solamente una sola capa densa oculta, esta compuesta por 64 neuronas y una función de activación ReLU. Este que es el primer modelo es el más sencillo de los cuatro experimentos y nos va a servir como una línea base y guia para poder  medir la efectividad de arquitecturas más complejas. Los resultados mostraron un MSE de 0.054292, lo que nos indica que se obtuvo un desempeño razonable, aun se puede mejorar, que es lo que se va a intentar más adelante agregando más capas o apliocando técnicas de regularización."
      ],
      "metadata": {
        "id": "VHegCj6HA3DY"
      }
    },
    {
      "cell_type": "markdown",
      "source": [
        "## Experiment 2: A set of three Dense Hidden Layers\n",
        "En este segundo experimento aumentamos la complejidad del modelo agregando dos capas densas ocultas adicionales, para tener en total tres capas ocultas que es lo que q ueremos, cada una cuenta con 64 neuronas y se usa la misma función de activación ReLU. Este modelo es un poco más profundo y un poco más complejo que el anterios, cuenta con una mayor capacidad para capturar patrones en los datos, pero también puede estar más propenso al sobreajuste. El MSE que obtuvimos fue de 0.072708, o sea un poco más alto que en el primer experimento. Esto nos indica que agregar más capas densas sin regularización puede no ser suficiente para mejorar el rendimiento, e incluso nos puede causar ruido o sobreajuste en los datos."
      ],
      "metadata": {
        "id": "mwPewFK-DOXv"
      }
    },
    {
      "cell_type": "markdown",
      "source": [
        "## Experiment 3: Add a dropout layer after each Dense Hidden Layer\n",
        "Para el tercer experimento, se introdujo la técnica de regularización Dropout después de cada capa densa oculta. Dropout nos va a ayudar a reducir el sobreajuste ya que \"apaga\" aleatoriamente neuronas durante el entrenamiento, lo que obliga a la red a aprender patrones más robustos. En teoria esta regularización deberia ayudar, sin embargo el MSE que obtuvimos en este caso fue de 0.081343, que en compración con los dos modelos anteriores no es tan bueno. Esto nos indica que en este caso  el modelo podria estar perdiendo demasiada información útil debido al Dropout que estamos haciendo, o que esta nueva implementación necesita más ajustes adicionales."
      ],
      "metadata": {
        "id": "-Q0ptbSEDX7j"
      }
    },
    {
      "cell_type": "markdown",
      "source": [
        "## Experiment 4: Add a Batch Normalization Layer after each Dropout Layer.\n",
        "En este cuarto experimento, combinamos Dropout con la técnica Batch Normalization. El Batch Normalization nos va a ayudar a lograr estabilizar y acelerar el entrenamiento al mantener los valores de activación dentro de un rango específico. Cada capa Dropout continua con  una capa de normalización por lotes con el fin de mejorar la eficiencia de aprendizaje y reducir la variación entre las activaciones. Este cuarto experimento nos dio como resultado el MSE más bajo, con un valor de 0.043873, indicandonos que la combinación de normalización por lotes y Dropout si logró mejorar significativamente la capacidad del modelo para generalizar sin sobreajustarse."
      ],
      "metadata": {
        "id": "IOFTTElQDgPq"
      }
    },
    {
      "cell_type": "markdown",
      "source": [
        "## Resultados\n",
        "Con el primer experimento de una capa densa oculta única ya se tenia un rendimiento aceptable. Sin embargo, al agregar más capas densas no mejoró el modelo, probablemente por el riesgo de sobreajuste. En el experiemnto tres vimos que al agregar el  Dropout por sí sol tampoco fue suficiente para reducir el MSE, aunque ayuda a regularizar el modelo. Finalmente, el modelo cuarto modelo que combinó Dropout y Batch Normalization logró obtener el MSE más bajo, esto nos indica que esta combinación permite que el modelo aprender de manera más estable y generalizar mejor en datos nuevos. En conclusión, el cuarto experimento muestra ser el más efectivo para predecir el GPA en este conjunto de datos, asi como lo vemos en la grafica."
      ],
      "metadata": {
        "id": "yO5pqxWkS0RT"
      }
    }
  ]
}